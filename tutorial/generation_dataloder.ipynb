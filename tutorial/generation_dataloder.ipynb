{
 "cells": [
  {
   "cell_type": "code",
   "execution_count": 3,
   "id": "0ad89bc5",
   "metadata": {},
   "outputs": [],
   "source": [
    "import graphgt"
   ]
  },
  {
   "cell_type": "code",
   "execution_count": 4,
   "id": "3cbe459b",
   "metadata": {},
   "outputs": [
    {
     "name": "stderr",
     "output_type": "stream",
     "text": [
      "Downloading node feature...\n",
      "100%|█████████████████████████████████████████████████████████████████████████████████| 31.1M/31.1M [00:03<00:00, 9.13MiB/s]\n",
      "Done!\n",
      "Downloading edge feature...\n",
      "100%|█████████████████████████████████████████████████████████████████████████████████| 49.5M/49.5M [00:04<00:00, 10.1MiB/s]\n",
      "Done!\n",
      "Downloading spatial feature...\n",
      "100%|█████████████████████████████████████████████████████████████████████████████████| 35.8M/35.8M [00:03<00:00, 9.19MiB/s]\n",
      "Done!\n",
      "Downloading adjacency matrix...\n",
      "100%|█████████████████████████████████████████████████████████████████████████████████| 49.5M/49.5M [00:04<00:00, 10.2MiB/s]\n",
      "Done!\n",
      "Downloading smiles string...\n",
      "100%|█████████████████████████████████████████████████████████████████████████████████| 15.0M/15.0M [00:02<00:00, 6.97MiB/s]\n",
      "Done!\n"
     ]
    }
   ],
   "source": [
    "qm9_data_loader = graphgt.DataLoader(name='qm9', save_path='./', format='numpy')"
   ]
  },
  {
   "cell_type": "code",
   "execution_count": 5,
   "id": "c000a860",
   "metadata": {},
   "outputs": [],
   "source": [
    "adj, node_feat, edge_feat, spatial, smile = qm9_data_loader.get_data()"
   ]
  },
  {
   "cell_type": "code",
   "execution_count": null,
   "id": "d4046bbb",
   "metadata": {},
   "outputs": [],
   "source": []
  }
 ],
 "metadata": {
  "kernelspec": {
   "display_name": "Python 3 (ipykernel)",
   "language": "python",
   "name": "python3"
  },
  "language_info": {
   "codemirror_mode": {
    "name": "ipython",
    "version": 3
   },
   "file_extension": ".py",
   "mimetype": "text/x-python",
   "name": "python",
   "nbconvert_exporter": "python",
   "pygments_lexer": "ipython3",
   "version": "3.7.10"
  }
 },
 "nbformat": 4,
 "nbformat_minor": 5
}
