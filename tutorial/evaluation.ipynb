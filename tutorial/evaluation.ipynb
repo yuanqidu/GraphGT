{
 "cells": [
  {
   "cell_type": "code",
   "execution_count": 3,
   "id": "ba251bd5",
   "metadata": {},
   "outputs": [],
   "source": [
    "import graphgt\n",
    "import numpy as np "
   ]
  },
  {
   "cell_type": "code",
   "execution_count": 5,
   "id": "bdc31fe2",
   "metadata": {},
   "outputs": [
    {
     "name": "stdout",
     "output_type": "stream",
     "text": [
      "MMD baseline 9.684740112247958e-05\n",
      "MMD prediction 0.3751574658037742\n",
      "KLD [0.51577211]\n",
      "EMB 0.01009273634128826\n"
     ]
    }
   ],
   "source": [
    "batch = 1000\n",
    "x = np.random.rand(batch,1)\n",
    "y_baseline = np.random.rand(batch,1)\n",
    "y_pred = np.zeros((batch,1))\n",
    "\n",
    "print('MMD baseline', graphgt.compute_mmd(x,y_baseline))\n",
    "print('MMD prediction', graphgt.compute_mmd(x,y_pred))\n",
    "print ('KLD', graphgt.compute_kld(x,y_baseline))\n",
    "print ('EMB', graphgt.compute_emd(x,y_baseline))"
   ]
  },
  {
   "cell_type": "code",
   "execution_count": null,
   "id": "f0b9d2f2",
   "metadata": {},
   "outputs": [],
   "source": []
  }
 ],
 "metadata": {
  "kernelspec": {
   "display_name": "Python 3 (ipykernel)",
   "language": "python",
   "name": "python3"
  },
  "language_info": {
   "codemirror_mode": {
    "name": "ipython",
    "version": 3
   },
   "file_extension": ".py",
   "mimetype": "text/x-python",
   "name": "python",
   "nbconvert_exporter": "python",
   "pygments_lexer": "ipython3",
   "version": "3.7.10"
  }
 },
 "nbformat": 4,
 "nbformat_minor": 5
}
