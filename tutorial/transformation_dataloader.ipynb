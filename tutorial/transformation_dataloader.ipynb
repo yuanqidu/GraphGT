{
 "cells": [
  {
   "cell_type": "code",
   "execution_count": 12,
   "id": "51cd16b9",
   "metadata": {},
   "outputs": [],
   "source": [
    "import graphgt"
   ]
  },
  {
   "cell_type": "code",
   "execution_count": 13,
   "id": "d7194d7a",
   "metadata": {},
   "outputs": [
    {
     "name": "stderr",
     "output_type": "stream",
     "text": [
      "Downloading input node feature...\n",
      "100%|██████████████████████████████████████████████████████████████████████████████████| 80.1k/80.1k [00:00<00:00, 230kiB/s]\n",
      "Done!\n",
      "Downloading input edge feature...\n",
      "100%|█████████████████████████████████████████████████████████████████████████████████| 1.60M/1.60M [00:01<00:00, 1.51MiB/s]\n",
      "Done!\n",
      "Downloading input adjacency matrix...\n",
      "100%|████████████████████████████████████████████████████████████████████████████████████| 800k/800k [00:00<00:00, 902kiB/s]\n",
      "Done!\n",
      "Downloading target node feature...\n",
      "100%|█████████████████████████████████████████████████████████████████████████████████| 80.1k/80.1k [00:00<00:00, 1.20MiB/s]\n",
      "Done!\n",
      "Downloading target edge feature...\n",
      "100%|█████████████████████████████████████████████████████████████████████████████████| 1.60M/1.60M [00:01<00:00, 1.54MiB/s]\n",
      "Done!\n",
      "Downloading adjacency matrix...\n",
      "100%|████████████████████████████████████████████████████████████████████████████████████| 800k/800k [00:00<00:00, 883kiB/s]\n",
      "Done!\n"
     ]
    }
   ],
   "source": [
    "ER20_data_loader = graphgt.DataLoader(name='ER_20', save_path='./', format='numpy')"
   ]
  },
  {
   "cell_type": "code",
   "execution_count": 14,
   "id": "9178f6ae",
   "metadata": {},
   "outputs": [],
   "source": [
    "input_adj, input_node_feat, input_edge_feat, input_spatial, target_adj, target_node_feat, target_edge_feat, target_spatial, label = ER20_data_loader.get_data()"
   ]
  },
  {
   "cell_type": "code",
   "execution_count": null,
   "id": "0882b38c",
   "metadata": {},
   "outputs": [],
   "source": []
  }
 ],
 "metadata": {
  "kernelspec": {
   "display_name": "Python 3 (ipykernel)",
   "language": "python",
   "name": "python3"
  },
  "language_info": {
   "codemirror_mode": {
    "name": "ipython",
    "version": 3
   },
   "file_extension": ".py",
   "mimetype": "text/x-python",
   "name": "python",
   "nbconvert_exporter": "python",
   "pygments_lexer": "ipython3",
   "version": "3.7.10"
  }
 },
 "nbformat": 4,
 "nbformat_minor": 5
}
